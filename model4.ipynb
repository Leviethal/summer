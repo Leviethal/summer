{
 "cells": [
  {
   "cell_type": "code",
   "execution_count": 1,
   "metadata": {},
   "outputs": [],
   "source": [
    "import numpy as np\n",
    "import pandas as pd\n",
    "from sklearn.impute import KNNImputer\n",
    "from sklearn.preprocessing import StandardScaler, LabelEncoder, PolynomialFeatures\n",
    "from sklearn.linear_model import LogisticRegression\n",
    "from sklearn.model_selection import StratifiedKFold\n",
    "from sklearn.metrics import classification_report\n",
    "\n",
    "\n",
    "train_df = pd.read_csv(\"hacktrain.csv\")\n",
    "test_df = pd.read_csv(\"hacktest.csv\")\n",
    "\n",
    "train_df.drop(columns=[\"Unnamed: 0\", \"ID\"], inplace=True)\n",
    "test_ids = test_df[\"ID\"]\n",
    "test_df.drop(columns=[\"Unnamed: 0\", \"ID\"], inplace=True)"
   ]
  },
  {
   "cell_type": "code",
   "execution_count": 2,
   "metadata": {},
   "outputs": [],
   "source": [
    "from sklearn.preprocessing import LabelEncoder\n",
    "le = LabelEncoder()\n",
    "train_df[\"class\"] = le.fit_transform(train_df[\"class\"])\n",
    "\n",
    "\n",
    "X = train_df.drop(columns=[\"class\"])\n",
    "y = train_df[\"class\"]\n",
    "X_test = test_df.copy()"
   ]
  },
  {
   "cell_type": "code",
   "execution_count": 3,
   "metadata": {},
   "outputs": [],
   "source": [
    "def add_ndvi_features(df):\n",
    "    df_new = df.copy()\n",
    "    df_new[\"ndvi_mean\"] = df.mean(axis=1)\n",
    "    df_new[\"ndvi_std\"] = df.std(axis=1)\n",
    "    df_new[\"ndvi_min\"] = df.min(axis=1)\n",
    "    df_new[\"ndvi_max\"] = df.max(axis=1)\n",
    "    df_new[\"ndvi_range\"] = df_new[\"ndvi_max\"] - df_new[\"ndvi_min\"]\n",
    "    return df_new\n",
    "\n",
    "X = add_ndvi_features(X)\n",
    "X_test = add_ndvi_features(X_test)"
   ]
  },
  {
   "cell_type": "code",
   "execution_count": 4,
   "metadata": {},
   "outputs": [],
   "source": [
    "imputer = KNNImputer(n_neighbors=5)\n",
    "X_imputed = imputer.fit_transform(X)\n",
    "X_test_imputed = imputer.transform(X_test)\n",
    "\n",
    "scaler = StandardScaler()\n",
    "X_scaled = scaler.fit_transform(X_imputed)\n",
    "X_test_scaled = scaler.transform(X_test_imputed)"
   ]
  },
  {
   "cell_type": "code",
   "execution_count": null,
   "metadata": {},
   "outputs": [
    {
     "name": "stderr",
     "output_type": "stream",
     "text": [
      "c:\\Users\\DAKSH\\AppData\\Local\\Programs\\Python\\Python312\\Lib\\site-packages\\sklearn\\linear_model\\_logistic.py:1247: FutureWarning: 'multi_class' was deprecated in version 1.5 and will be removed in 1.7. From then on, it will always use 'multinomial'. Leave it to its default value to avoid this warning.\n",
      "  warnings.warn(\n"
     ]
    }
   ],
   "source": [
    "skf = StratifiedKFold(n_splits=5, shuffle=True, random_state=42)\n",
    "oof_preds = np.zeros((len(X_scaled), len(np.unique(y))))\n",
    "test_preds = np.zeros((len(X_test_scaled), len(np.unique(y))))\n",
    "\n",
    "for fold, (train_idx, val_idx) in enumerate(skf.split(X_scaled, y)):\n",
    "    X_train, X_val = X_scaled[train_idx], X_scaled[val_idx]\n",
    "    y_train, y_val = y[train_idx], y[val_idx]\n",
    "\n",
    "    model = LogisticRegression(penalty=\"l1\", solver=\"saga\", max_iter=1000, multi_class=\"multinomial\")\n",
    "    model.fit(X_train, y_train)\n",
    "    \n",
    "    oof_preds[val_idx] = model.predict_proba(X_val)\n",
    "    test_preds += model.predict_proba(X_test_scaled) / skf.n_splits\n",
    "\n",
    "y_pred_final = np.argmax(test_preds, axis=1)\n",
    "y_pred_labels = le.inverse_transform(y_pred_final)"
   ]
  },
  {
   "cell_type": "code",
   "execution_count": null,
   "metadata": {},
   "outputs": [],
   "source": [
    "submission = pd.DataFrame({\"ID\": test_ids, \"class\": y_pred_labels})\n",
    "submission.to_csv(\"submission.csv\", index=False)\n",
    "print(\"✅ submission.csv saved!\")"
   ]
  }
 ],
 "metadata": {
  "kernelspec": {
   "display_name": "Python 3",
   "language": "python",
   "name": "python3"
  },
  "language_info": {
   "codemirror_mode": {
    "name": "ipython",
    "version": 3
   },
   "file_extension": ".py",
   "mimetype": "text/x-python",
   "name": "python",
   "nbconvert_exporter": "python",
   "pygments_lexer": "ipython3",
   "version": "3.12.10"
  }
 },
 "nbformat": 4,
 "nbformat_minor": 2
}
